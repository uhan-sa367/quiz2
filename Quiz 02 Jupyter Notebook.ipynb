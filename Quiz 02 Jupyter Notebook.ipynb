{
 "cells": [
  {
   "cell_type": "markdown",
   "metadata": {
    "hide_cell": true
   },
   "source": [
    "**SA367 &#x25aa; Mathematical Models for Decision Making &#x25aa; Spring 2022 &#x25aa; Uhan**"
   ]
  },
  {
   "cell_type": "markdown",
   "metadata": {
    "hide_cell": true
   },
   "source": [
    "# Quiz 2"
   ]
  },
  {
   "cell_type": "markdown",
   "metadata": {
    "hide_cell": true
   },
   "source": [
    "## Instructions"
   ]
  },
  {
   "cell_type": "markdown",
   "metadata": {
    "hide_cell": true
   },
   "source": [
    "This take-home quiz is due **at the beginning of class on Thursday 1/27**. You may use your own course materials, as well as any materials directly linked from the course website. **No collaboration allowed.**\n",
    "\n",
    "Type your answers **directly in this Jupyter notebook**, and submit this notebook (just the `ipynb` file) using the submission form on the [course website](https://www.usna.edu/users/math/uhan/sa367/)."
   ]
  },
  {
   "cell_type": "markdown",
   "metadata": {},
   "source": [
    "## Problem 1"
   ]
  },
  {
   "cell_type": "code",
   "execution_count": null,
   "metadata": {},
   "outputs": [],
   "source": [
    "# Money values in US Dollars\n",
    "dollars = [68.71, 91.78, 84.18, 82.31, 13.99, 8.7, 29.28, 30.38, 11.07, 43.7]\n",
    "\n",
    "# Write your code here\n"
   ]
  },
  {
   "cell_type": "markdown",
   "metadata": {},
   "source": [
    "## Problem 2"
   ]
  },
  {
   "cell_type": "code",
   "execution_count": null,
   "metadata": {},
   "outputs": [],
   "source": [
    "# From basketball-reference.com, 1/20/2022\n",
    "ppg = {}\n",
    "\n",
    "ppg['Brittany Boyd'] = 2.0\n",
    "ppg['Lexie Brown'] = 1.6\n",
    "ppg['Kahleah Copper'] = 14.4\n",
    "ppg['Diamond DeShields'] = 11.3\n",
    "ppg['Stefanie Dolson'] = 7.5\n",
    "ppg['Dana Evans'] = 3.9\n",
    "ppg['Shyla Heal'] = 2.0\n",
    "ppg['Ruthy Hebard'] = 5.8\n",
    "ppg['Natasha Mack'] = 2.0\n",
    "ppg['Astou Ndour'] = 6.6\n",
    "ppg['Candace Parker'] = 13.3\n",
    "ppg['Allie Quigley'] = 13.2\n",
    "ppg['Azura Stevens'] = 7.4\n",
    "ppg['Courtney Vandersloot'] = 10.5\n",
    "ppg['Stephanie Watts'] = 2.5\n",
    "\n",
    "# Write your code here\n"
   ]
  },
  {
   "cell_type": "markdown",
   "metadata": {
    "hide_cell": true
   },
   "source": [
    "## When you're finished"
   ]
  },
  {
   "cell_type": "markdown",
   "metadata": {
    "hide_cell": true,
    "tags": []
   },
   "source": [
    "* Select **Run &#8594; Run All Cells**  to run all the cells from top to bottom. Make sure your notebook runs as you expect before submitting it."
   ]
  }
 ],
 "metadata": {
  "kernelspec": {
   "display_name": "Python 3 (ipykernel)",
   "language": "python",
   "name": "python3"
  },
  "language_info": {
   "codemirror_mode": {
    "name": "ipython",
    "version": 3
   },
   "file_extension": ".py",
   "mimetype": "text/x-python",
   "name": "python",
   "nbconvert_exporter": "python",
   "pygments_lexer": "ipython3",
   "version": "3.8.10"
  },
  "latex_metadata": {
   "lesson": "5",
   "lessontitle": "Quiz 4 -- 7 February 2017",
   "shortlessontitle": "Quiz 4 -- 7 February 2017"
  }
 },
 "nbformat": 4,
 "nbformat_minor": 4
}
